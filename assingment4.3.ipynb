{
 "cells": [
  {
   "cell_type": "code",
   "execution_count": null,
   "id": "be17356e-1b1e-4ffe-b5b5-b0593f4b979f",
   "metadata": {},
   "outputs": [],
   "source": [
    "ques no 1.\n",
    "abstraction is the process of hiding the internal details of an application\n",
    "from the outer world.\n",
    "for example\n",
    "import abc\n",
    "class pwskills:\n",
    "    \n",
    "    @abc.abstractmethod\n",
    "    def student_detials(self):\n",
    "        pass\n",
    "    \n",
    "    @abc.abstractmethod\n",
    "    def student_assingment(self):\n",
    "        pass\n",
    "    \n",
    "    @abc.abstractmethod\n",
    "    def student_marks(self):\n",
    "        pass\n",
    "\n",
    "here we make a skeleton without defination of functions\n",
    "then given below we make a class and used the above skeleton"
   ]
  },
  {
   "cell_type": "code",
   "execution_count": null,
   "id": "7b04a4ba-a5e9-4442-a5b6-f2d699bd1113",
   "metadata": {},
   "outputs": [],
   "source": [
    "class student_detials(pwskills):\n",
    "    \n",
    "    def student_detials(self):\n",
    "        return \"this is a meth for taking students detailds\"\n",
    "    \n",
    "    def student_assingment(self):\n",
    "        return \"this is a meth for assing details for a particular\""
   ]
  },
  {
   "cell_type": "code",
   "execution_count": null,
   "id": "e2ad5d90-3718-4fd8-a12d-706a014e04f5",
   "metadata": {},
   "outputs": [],
   "source": [
    "ques no 2.\n",
    "abstraction is the process of hiding the internal details of an application\n",
    "from the outer world or encapsulation is a method of wrapping up the data and code\n",
    "acting on the data into a single unit.\n",
    "for example"
   ]
  },
  {
   "cell_type": "code",
   "execution_count": null,
   "id": "929b1c0b-8013-4450-9ccb-9bf20c073acf",
   "metadata": {},
   "outputs": [],
   "source": [
    "import abc\n",
    "class pwskills:\n",
    "    \n",
    "    @abc.abstractmethod\n",
    "    def student_detials(self):\n",
    "        pass\n",
    "    \n",
    "    @abc.abstractmethod\n",
    "    def student_assingment(self):\n",
    "        pass"
   ]
  },
  {
   "cell_type": "code",
   "execution_count": null,
   "id": "7a8ccb53-ca3a-4d67-ba3f-9b709d421662",
   "metadata": {},
   "outputs": [],
   "source": [
    "class student_detials(pwskills):\n",
    "    \n",
    "    def student_detials(self):\n",
    "        return \"this is a meth for taking students detailds\""
   ]
  },
  {
   "cell_type": "code",
   "execution_count": null,
   "id": "34ee35b0-6cf8-431a-bf3a-567568ddb877",
   "metadata": {},
   "outputs": [],
   "source": [
    "here data is not defined for outer world we all can use as per our need."
   ]
  },
  {
   "cell_type": "code",
   "execution_count": null,
   "id": "f24c8735-0649-4ada-980e-481ab9104034",
   "metadata": {},
   "outputs": [],
   "source": [
    "class car :\n",
    "    def __init__(self,year,make):\n",
    "        \n",
    "        self.__year = year\n",
    "        self.__make = make\n",
    "        \n",
    "    def car_details(self):\n",
    "        pass"
   ]
  },
  {
   "cell_type": "code",
   "execution_count": null,
   "id": "31c2e19b-5156-4ae1-b91b-614daac0d951",
   "metadata": {},
   "outputs": [],
   "source": [
    "here data is wrraped by using double underscore."
   ]
  },
  {
   "cell_type": "code",
   "execution_count": null,
   "id": "3e39af52-bed4-4615-b213-4b2b70d6f7dc",
   "metadata": {},
   "outputs": [],
   "source": [
    "ques no 3.\n",
    "the abc module in python provides the infrastructure for defining coustom \n",
    "abstract base classes. abstract class cannot be instantiated in python .\n",
    "an abstract method can be call by its  subclasses.      "
   ]
  },
  {
   "cell_type": "code",
   "execution_count": null,
   "id": "16a52876-d4d4-43d0-8f99-0b525f4fbd71",
   "metadata": {},
   "outputs": [],
   "source": [
    "ques no 4.\n",
    "we can achive data abstraction through creating abstract classes and inheriting them later."
   ]
  },
  {
   "cell_type": "code",
   "execution_count": null,
   "id": "1c924ecc-f7e5-4c2c-b97e-eed9d72d61b9",
   "metadata": {},
   "outputs": [],
   "source": [
    "ques no 5.\n",
    "abstract c"
   ]
  }
 ],
 "metadata": {
  "kernelspec": {
   "display_name": "Python 3 (ipykernel)",
   "language": "python",
   "name": "python3"
  },
  "language_info": {
   "codemirror_mode": {
    "name": "ipython",
    "version": 3
   },
   "file_extension": ".py",
   "mimetype": "text/x-python",
   "name": "python",
   "nbconvert_exporter": "python",
   "pygments_lexer": "ipython3",
   "version": "3.10.8"
  }
 },
 "nbformat": 4,
 "nbformat_minor": 5
}
